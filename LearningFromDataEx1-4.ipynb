{
 "cells": [
  {
   "cell_type": "markdown",
   "metadata": {},
   "source": [
    "## Learning From Data: Exercise 1.4"
   ]
  },
  {
   "cell_type": "markdown",
   "metadata": {},
   "source": [
    "This problem wants us to visualize the perceptron learning algorithm (PLA) on 20 random data points.  Let's get to it!"
   ]
  },
  {
   "cell_type": "code",
   "execution_count": 1,
   "metadata": {
    "collapsed": true
   },
   "outputs": [],
   "source": [
    "import numpy as np\n",
    "import matplotlib.pyplot as plt"
   ]
  },
  {
   "cell_type": "markdown",
   "metadata": {},
   "source": [
    "For visualization's sake, we'll limit our points to the rectangle $[-10, 10] \\times [-10, 10] \\subset \\mathbb{R}^2$. To do this, we'll sample each $x, y \\sim 20 * U(0, 1) - 10$. To account for our bias term, we prepend a 1 to each sample."
   ]
  },
  {
   "cell_type": "code",
   "execution_count": 2,
   "metadata": {
    "collapsed": true
   },
   "outputs": [],
   "source": [
    "def generateSamples(num_samples=20):\n",
    "\tsamples = np.random.rand(num_samples, 2)\n",
    "\tsamples *= 20\n",
    "\tsamples -= 10\n",
    "\treturn np.hstack((np.ones((num_samples, 1)), samples)) # add 1s for bias"
   ]
  },
  {
   "cell_type": "markdown",
   "metadata": {},
   "source": [
    "We need to pick a target function too.  We'll just randomly sample weights between 0 and 1:"
   ]
  },
  {
   "cell_type": "code",
   "execution_count": 3,
   "metadata": {
    "collapsed": true
   },
   "outputs": [],
   "source": [
    "def generateTarget():\n",
    "\tf = np.random.rand(3)\n",
    "\treturn f"
   ]
  },
  {
   "cell_type": "markdown",
   "metadata": {},
   "source": [
    "Since we have our target function, we can realize the true labels for these points with our decision rule: $f(\\mathbf{x}) = \\text{sign}(\\mathbf{w}^T\\mathbf{x})$."
   ]
  },
  {
   "cell_type": "code",
   "execution_count": 4,
   "metadata": {
    "collapsed": true
   },
   "outputs": [],
   "source": [
    "def classifySamples(samples, f):\n",
    "\ty = f.dot(samples.T)\n",
    "\treturn np.where(y > 0, 1, -1)"
   ]
  },
  {
   "cell_type": "markdown",
   "metadata": {},
   "source": [
    "The last thing to do is run the learning algorithm! We can use our result from Exercise 1.3 to verify if an example is misclassified by evaluating the quantity $y(t)\\mathbf{w}^T(t)\\mathbf{x}(t)$. Since our data is linearly separable, we define convergence as perfectly classifying all the samples. We begin by initializing our weight vector to $\\mathbf{0}:$"
   ]
  },
  {
   "cell_type": "code",
   "execution_count": 5,
   "metadata": {
    "collapsed": true
   },
   "outputs": [],
   "source": [
    "def runPLA(X, y):\n",
    "\tw = np.zeros(3)\n",
    "\tepoch = 0\n",
    "\tnotConverged = True\n",
    "\twhile notConverged:\n",
    "\t\tnotConverged = False\n",
    "\t\tepoch += 1\n",
    "\t\tprint \"Epoch: {}\".format(epoch)\n",
    "\t\tfor t in xrange(len(X)):\n",
    "\t\t\tif w.dot(X[t]) * y[t] <= 0:\n",
    "\t\t\t\tw += y[t] * X[t]\n",
    "\t\t\t\tnotConverged = True\n",
    "\tprint \"Took {} epochs to converge\".format(epoch)\n",
    "\treturn w # return our hypothesis"
   ]
  },
  {
   "cell_type": "markdown",
   "metadata": {},
   "source": [
    "We define some functions to plot our results below. The **convertWeightsToLine** function takes a weight vector $[w_1, w_2, w_3]$ and converts it into a line of the form $y = mx + b$."
   ]
  },
  {
   "cell_type": "code",
   "execution_count": 6,
   "metadata": {
    "collapsed": true
   },
   "outputs": [],
   "source": [
    "def plotSamples(samples, y):\n",
    "\tposSamples = samples[y == 1]\n",
    "\tnegSamples = samples[y == -1]\n",
    "\tplt.plot(posSamples[:, 1], posSamples[:, 2], 'bo')\n",
    "\tplt.plot(negSamples[:, 1], negSamples[:, 2], 'rx')\n",
    "\t\n",
    "\n",
    "def convertWeightsToLine(function):\n",
    "\tslope = -1.0 * function[1] / function[2]\n",
    "\tintercept = -1.0 * function[0] / function[2]\n",
    "\treturn lambda x : slope * x + intercept\n",
    "\n",
    "def plotFunctions(f, g):\n",
    "\tf = convertWeightsToLine(f)\n",
    "\tg = convertWeightsToLine(g)\n",
    "\tx = np.linspace(-10, 10, 100)\n",
    "\tplt.plot(x, f(x), '--')\n",
    "\tplt.plot(x, g(x), 'g-')"
   ]
  },
  {
   "cell_type": "markdown",
   "metadata": {},
   "source": [
    "It's showtime!"
   ]
  },
  {
   "cell_type": "code",
   "execution_count": 7,
   "metadata": {},
   "outputs": [
    {
     "name": "stdout",
     "output_type": "stream",
     "text": [
      "Epoch: 1\n",
      "Epoch: 2\n",
      "Took 2 epochs to converge\n"
     ]
    },
    {
     "data": {
      "image/png": "[encoded data removed]",
      "text/plain": [
       "<matplotlib.figure.Figure at 0x105dd5d90>"
      ]
     },
     "metadata": {},
     "output_type": "display_data"
    }
   ],
   "source": [
    "f = generateTarget()\n",
    "samples = generateSamples()\n",
    "y = classifySamples(samples, f)\n",
    "g = runPLA(samples, y)\n",
    "plotSamples(samples, y)\n",
    "plotFunctions(f, g)\n",
    "plt.show()"
   ]
  },
  {
   "cell_type": "markdown",
   "metadata": {},
   "source": [
    "Pretty cool huh? Because of the randomness it's hard to place a legend somewhere without blocking part of the graph, but the dashed blue line represents the target function while the green line represents our hypothesis."
   ]
  }
 ],
 "metadata": {
  "kernelspec": {
   "display_name": "Python 2",
   "language": "python",
   "name": "python2"
  },
  "language_info": {
   "codemirror_mode": {
    "name": "ipython",
    "version": 2
   },
   "file_extension": ".py",
   "mimetype": "text/x-python",
   "name": "python",
   "nbconvert_exporter": "python",
   "pygments_lexer": "ipython2",
   "version": "2.7.11"
  }
 },
 "nbformat": 4,
 "nbformat_minor": 2
}
